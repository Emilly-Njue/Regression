{
 "cells": [
  {
   "cell_type": "code",
   "execution_count": null,
   "metadata": {},
   "outputs": [],
   "source": [
    "y = yld['Yield']\n",
    "X = yld[['Temp']]\n",
    "\n",
    "fig, ax = plt.subplots()\n",
    "ax.scatter(X, y, color='green')\n",
    "ax.set_xlabel('Temperature')\n",
    "ax.set_ylabel('Yield')\n",
    "fig.suptitle('Full Dataset');"
   ]
  },
  {
   "cell_type": "code",
   "execution_count": null,
   "metadata": {},
   "outputs": [],
   "source": [
    "fig, axes = plt.subplots(ncols=2, figsize=(13,4), sharey=True)\n",
    "\n",
    "axes[0].scatter(X_train, y_train, color='green')\n",
    "axes[0].set_xlabel('Temperature')\n",
    "axes[0].set_ylabel('Yield')\n",
    "axes[0].set_title('Train')\n",
    "\n",
    "axes[1].scatter(X_test, y_test, color='green')\n",
    "axes[1].set_xlabel('Temperature')\n",
    "axes[1].set_title('Test')\n",
    "\n",
    "fig.suptitle('Train-Test Split');"
   ]
  },
  {
   "cell_type": "code",
   "execution_count": null,
   "metadata": {},
   "outputs": [],
   "source": [
    "fig, axes = plt.subplots(ncols=2, figsize=(13,4), sharey=True)\n",
    "X_linspace = pd.DataFrame(np.linspace(50, 145, 50), columns=['Temp'])\n",
    "\n",
    "axes[0].scatter(X_train, y_train, color='green', label=\"data points\")\n",
    "axes[0].plot(X_linspace, reg.predict(X_linspace), label=\"best fit line\")\n",
    "axes[0].set_xlabel('Temperature')\n",
    "axes[0].set_ylabel('Yield')\n",
    "axes[0].set_title('Train')\n",
    "\n",
    "axes[1].scatter(X_test, y_test, color='green')\n",
    "axes[1].plot(X_linspace, reg.predict(X_linspace))\n",
    "axes[1].set_xlabel('Temperature')\n",
    "axes[1].set_title('Test')\n",
    "\n",
    "fig.legend()\n",
    "fig.suptitle('Simple Linear Regression');"
   ]
  },
  {
   "cell_type": "code",
   "execution_count": null,
   "metadata": {},
   "outputs": [],
   "source": [
    "# 6th degree polynomial\n",
    "poly = PolynomialFeatures(6)\n",
    "reg_poly = LinearRegression().fit(poly.fit_transform(X_train), y_train)\n",
    "\n",
    "fig, axes = plt.subplots(ncols=2, figsize=(13,4), sharey=True)\n",
    "\n",
    "axes[0].scatter(X_train, y_train, color='green', label=\"data points\")\n",
    "axes[0].plot(X_linspace, reg_poly.predict(poly.transform(X_linspace)), label=\"best fit line\")\n",
    "axes[0].set_xlabel('Temperature')\n",
    "axes[0].set_ylabel('Yield')\n",
    "axes[0].set_title('Train')\n",
    "\n",
    "axes[1].scatter(X_test, y_test, color='green')\n",
    "axes[1].plot(X_linspace, reg_poly.predict(poly.transform(X_linspace)))\n",
    "axes[1].set_xlabel('Temperature')\n",
    "axes[1].set_title('Test')\n",
    "\n",
    "fig.legend()\n",
    "fig.suptitle('6th Degree Polynomial');"
   ]
  }
 ],
 "metadata": {
  "language_info": {
   "name": "python"
  },
  "orig_nbformat": 4
 },
 "nbformat": 4,
 "nbformat_minor": 2
}
